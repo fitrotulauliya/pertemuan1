{
 "cells": [
  {
   "cell_type": "code",
   "execution_count": 4,
   "metadata": {},
   "outputs": [
    {
     "name": "stdout",
     "output_type": "stream",
     "text": [
      "membuat nilai maksimum dua bilangan \n",
      "masukan bilangan pertama: 10\n",
      "masukan bilangan kedua: 20\n",
      "nilai terbesar adalah 20\n"
     ]
    }
   ],
   "source": [
    "print('membuat nilai maksimum dua bilangan ')\n",
    "\n",
    "a = int(input(\"masukan bilangan pertama: \"))\n",
    "b = int(input(\"masukan bilangan kedua: \"))\n",
    "\n",
    "if a > b:\n",
    "    maks = a\n",
    "else:\n",
    "    maks = b\n",
    "\n",
    "print('nilai terbesar adalah %d' % maks)\n",
    "    \n",
    "    "
   ]
  },
  {
   "cell_type": "code",
   "execution_count": 12,
   "metadata": {},
   "outputs": [
    {
     "name": "stdout",
     "output_type": "stream",
     "text": [
      "masukan nilai uts :30\n",
      "masukan nilai uas :70\n",
      "masukan nilai kuis :80\n",
      "masukan nilai tugas:90\n",
      "nilai uts   : 30.0\n",
      "nilai uas   : 70.0\n",
      "nilai kuis  : 80.0\n",
      "nilai tugas : 90.0\n",
      "nilai final : 63.0\n",
      "Nilai huruf : C\n",
      "keterangan : TIDAK LULUS\n"
     ]
    }
   ],
   "source": [
    "uts=float(input(\"masukan nilai uts :\"))\n",
    "uas=float(input(\"masukan nilai uas :\"))\n",
    "kuis=float(input(\"masukan nilai kuis :\")) \n",
    "tugas=float(input(\"masukan nilai tugas:\"))\n",
    "\n",
    "na=(uts *0.3) + (uas *0.4) + (kuis *0.1) + (tugas *0.2)\n",
    "\n",
    "print(\"nilai uts   :\",uts)\n",
    "print(\"nilai uas   :\",uas)\n",
    "print(\"nilai kuis  :\",kuis)\n",
    "print(\"nilai tugas :\",tugas)\n",
    "print(\"nilai final :\",na)\n",
    "\n",
    "if na >=80 :\n",
    "    print(\"Nilai huruf : A\")\n",
    "elif na >=70 :\n",
    "    print(\"Nilai huruf : B\")\n",
    "elif na >=55 :\n",
    "    print(\"Nilai huruf : C\")\n",
    "elif na >=40 :\n",
    "    print(\"Nilai huruf : D\")\n",
    " \n",
    "if na >=65 :\n",
    "    print(\"keterangan : LULUS\")\n",
    "else:\n",
    "    print(\"keterangan : TIDAK LULUS\")"
   ]
  },
  {
   "cell_type": "code",
   "execution_count": 13,
   "metadata": {},
   "outputs": [
    {
     "name": "stdout",
     "output_type": "stream",
     "text": [
      "Pilih Operasi.\n",
      "1.Jumlah\n",
      "2.Kurang\n",
      "3.Kali\n",
      "4.Bagi\n",
      "Masukkan pilihan(1/2/3/4): 1\n",
      "Masukkan bilangan pertama: 30\n",
      "Masukkan bilangan kedua: 15\n",
      "30 + 15 = 45\n"
     ]
    }
   ],
   "source": [
    "def add(x, y):\n",
    "   return x + y\n",
    "# fungsi pengurangan\n",
    "def subtract(x, y):\n",
    "   return x - y\n",
    "# fungsi perkalian\n",
    "def multiply(x, y):\n",
    "   return x * y\n",
    "# fungsi pembagian\n",
    "def divide(x, y):\n",
    "   return x / y\n",
    "# menu operasi\n",
    "print(\"Pilih Operasi.\")\n",
    "print(\"1.Jumlah\")\n",
    "print(\"2.Kurang\")\n",
    "print(\"3.Kali\")\n",
    "print(\"4.Bagi\")\n",
    "# Meminta input dari user\n",
    "choice = input(\"Masukkan pilihan(1/2/3/4): \")\n",
    "num1 = int(input(\"Masukkan bilangan pertama: \"))\n",
    "num2 = int(input(\"Masukkan bilangan kedua: \"))\n",
    "if choice == '1':\n",
    "   print(num1,\"+\",num2,\"=\", add(num1,num2))\n",
    "elif choice == '2':\n",
    "   print(num1,\"-\",num2,\"=\", subtract(num1,num2))\n",
    "elif choice == '3':\n",
    "   print(num1,\"*\",num2,\"=\", multiply(num1,num2))\n",
    "elif choice == '4':\n",
    "   print(num1,\"/\",num2,\"=\", divide(num1,num2))\n",
    "else:\n",
    "   print(\"Input salah\")"
   ]
  },
  {
   "cell_type": "code",
   "execution_count": null,
   "metadata": {},
   "outputs": [],
   "source": []
  },
  {
   "cell_type": "code",
   "execution_count": null,
   "metadata": {},
   "outputs": [],
   "source": []
  }
 ],
 "metadata": {
  "kernelspec": {
   "display_name": "Python 3",
   "language": "python",
   "name": "python3"
  },
  "language_info": {
   "codemirror_mode": {
    "name": "ipython",
    "version": 3
   },
   "file_extension": ".py",
   "mimetype": "text/x-python",
   "name": "python",
   "nbconvert_exporter": "python",
   "pygments_lexer": "ipython3",
   "version": "3.8.5"
  }
 },
 "nbformat": 4,
 "nbformat_minor": 4
}
