{
 "cells": [
  {
   "cell_type": "code",
   "execution_count": 1,
   "metadata": {},
   "outputs": [
    {
     "name": "stdout",
     "output_type": "stream",
     "text": [
      "msukkan jumlah bilangan=3\n",
      "bilangan genap ke- 1 : 0\n",
      "bilangan genap ke- 1 : 1\n",
      "bilangan genap ke- 2 : 2\n",
      "bilangan genap ke- 2 : 3\n",
      "bilangan genap ke- 3 : 4\n",
      "bilangan genap ke- 3 : 5\n",
      "total bilangan genap= 6\n"
     ]
    }
   ],
   "source": [
    "a=int(input('msukkan jumlah bilangan='))\n",
    "b=0\n",
    "p=0\n",
    "for i in range(a*2):\n",
    "    if i%2==0:\n",
    "        b=b+1\n",
    "        p=p+i\n",
    "    print('bilangan genap ke-',b,':',i)\n",
    "print('total bilangan genap=',p)"
   ]
  },
  {
   "cell_type": "code",
   "execution_count": 2,
   "metadata": {},
   "outputs": [
    {
     "name": "stdout",
     "output_type": "stream",
     "text": [
      "msukkan jumlah bilangan=5\n",
      "bilangan genap ke- 1 : 0\n",
      "bilangan genap ke- 1 : 1\n",
      "bilangan genap ke- 2 : 2\n",
      "bilangan genap ke- 2 : 3\n",
      "bilangan genap ke- 3 : 4\n",
      "bilangan genap ke- 3 : 5\n",
      "bilangan genap ke- 4 : 6\n",
      "bilangan genap ke- 4 : 7\n",
      "bilangan genap ke- 5 : 8\n",
      "bilangan genap ke- 5 : 9\n",
      "total bilangan genap= 20\n"
     ]
    }
   ],
   "source": [
    "a=int(input('msukkan jumlah bilangan='))\n",
    "b=0\n",
    "p=0\n",
    "for i in range(a*2):\n",
    "    if i%2==0:\n",
    "        b=b+1\n",
    "        p=p+i\n",
    "    print('bilangan genap ke-',b,':',i)\n",
    "print('total bilangan genap=',p)"
   ]
  },
  {
   "cell_type": "code",
   "execution_count": 37,
   "metadata": {},
   "outputs": [
    {
     "name": "stdout",
     "output_type": "stream",
     "text": [
      "masukkan jumlah nilai :2\n",
      "bilangan kuadrat ke - 1 : 1\n",
      "bilangan kuadrat ke - 2 : 4\n",
      "jumlah bilangan kuadrat pertama= 5\n",
      "ingin memasukkan nilai lagi ? (ya/tidak)\n",
      "tidak\n",
      "terimakasih\n"
     ]
    }
   ],
   "source": [
    "def jkp():\n",
    "    a = int(input('masukkan jumlah nilai :'))\n",
    "    b = 0\n",
    "    s = 0\n",
    "    for i in range(1,a+1):\n",
    "        if i > 0:\n",
    "            b = b + 1\n",
    "            s = s + i*i\n",
    "            print('bilangan kuadrat ke -',b,':',i*i)\n",
    "        \n",
    "    print('jumlah bilangan kuadrat pertama=',s)\n",
    "    \n",
    "    print('ingin memasukkan nilai lagi ? (ya/tidak)')\n",
    "    z=input()\n",
    "    if z=='ya':\n",
    "        return jkp()\n",
    "    if z=='tidak':\n",
    "        print('terimakasih') \n",
    "\n",
    "jkp()\n",
    "    "
   ]
  },
  {
   "cell_type": "code",
   "execution_count": 39,
   "metadata": {},
   "outputs": [
    {
     "name": "stdout",
     "output_type": "stream",
     "text": [
      "masukkan jumlah nilai :3\n",
      "bilangan kuadrat ke - 1 : 1\n",
      "bilangan kuadrat ke - 2 : 4\n",
      "bilangan kuadrat ke - 3 : 9\n",
      "jumlah bilangan kuadrat pertama= 14\n",
      "ingin memasukkan nilai lagi ? (ya/tidak)\n",
      "tidak\n",
      "terimakasih\n"
     ]
    }
   ],
   "source": [
    "def jkp():\n",
    "    a = int(input('masukkan jumlah nilai :'))\n",
    "    b = 0\n",
    "    s = 0\n",
    "    for i in range(1,a+1):\n",
    "        if i > 0:\n",
    "            b = b + 1\n",
    "            s = s + i*i\n",
    "            print('bilangan kuadrat ke -',b,':',i*i)\n",
    "        \n",
    "    print('jumlah bilangan kuadrat pertama=',s)\n",
    "    \n",
    "    print('ingin memasukkan nilai lagi ? (ya/tidak)')\n",
    "    z=input()\n",
    "    if z=='ya':\n",
    "        return jkp()\n",
    "    if z=='tidak':\n",
    "        print('terimakasih') \n",
    "\n",
    "jkp()"
   ]
  },
  {
   "cell_type": "code",
   "execution_count": 21,
   "metadata": {},
   "outputs": [
    {
     "name": "stdout",
     "output_type": "stream",
     "text": [
      "Masukan bilangan awal: 2\n",
      "Masukan bilangan akhir: 5\n",
      "Daftar bilangan: [2, 3, 4, 5]\n",
      "genap: 2, 4\n",
      "ganjil: 3, 5\n"
     ]
    }
   ],
   "source": [
    "bil_awal = int(input('Masukan bilangan awal: '))\n",
    "bil_akhir = int(input('Masukan bilangan akhir: '))\n",
    " \n",
    "list_bil = [i for i in range(bil_awal, bil_akhir +1 )]\n",
    "print('Daftar bilangan: {}'.format(list_bil))\n",
    " \n",
    "bil_genap = []\n",
    "bil_ganjil = []\n",
    " \n",
    "for bil in list_bil:\n",
    "    if bil % 2 == 0:\n",
    "        bil_genap.append(bil)\n",
    "    else:\n",
    "        bil_ganjil.append(bil)\n",
    " \n",
    "print('genap: {}'.format(', '.join([str(bil) for bil in bil_genap])))\n",
    "print('ganjil: {}'.format(', '.join([str(bil) for bil in bil_ganjil])))"
   ]
  },
  {
   "cell_type": "code",
   "execution_count": 30,
   "metadata": {},
   "outputs": [
    {
     "name": "stdout",
     "output_type": "stream",
     "text": [
      "Masukan bilangan awal: 2\n",
      "Masukan bilangan akhir: 9\n",
      "Daftar bilangan: [2, 3, 4, 5, 6, 7, 8, 9]\n",
      "genap: 2, 4, 6, 8\n",
      "ganjil: 3, 5, 7, 9\n"
     ]
    }
   ],
   "source": [
    "bil_awal = int(input('Masukan bilangan awal: '))\n",
    "bil_akhir = int(input('Masukan bilangan akhir: '))\n",
    " \n",
    "list_bil = [i for i in range(bil_awal, bil_akhir +1 )]\n",
    "print('Daftar bilangan: {}'.format(list_bil))\n",
    " \n",
    "bil_genap = []\n",
    "bil_ganjil = []\n",
    " \n",
    "for bil in list_bil:\n",
    "    if bil % 2 == 0:\n",
    "        bil_genap.append(bil)\n",
    "    else:\n",
    "        bil_ganjil.append(bil)\n",
    " \n",
    "print('genap: {}'.format(', '.join([str(bil) for bil in bil_genap])))\n",
    "print('ganjil: {}'.format(', '.join([str(bil) for bil in bil_ganjil])))\n",
    " \n"
   ]
  },
  {
   "cell_type": "code",
   "execution_count": null,
   "metadata": {},
   "outputs": [],
   "source": []
  }
 ],
 "metadata": {
  "kernelspec": {
   "display_name": "Python 3",
   "language": "python",
   "name": "python3"
  },
  "language_info": {
   "codemirror_mode": {
    "name": "ipython",
    "version": 3
   },
   "file_extension": ".py",
   "mimetype": "text/x-python",
   "name": "python",
   "nbconvert_exporter": "python",
   "pygments_lexer": "ipython3",
   "version": "3.8.5"
  }
 },
 "nbformat": 4,
 "nbformat_minor": 4
}
